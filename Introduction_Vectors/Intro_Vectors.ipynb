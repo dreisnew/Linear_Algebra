{
 "cells": [
  {
   "cell_type": "markdown",
   "id": "456b6111-e27c-47f8-a392-d135f4ad9174",
   "metadata": {},
   "source": [
    "# Intro_Vectors Assignment\n",
    "## Andrea Kaye A. Chiang "
   ]
  },
  {
   "cell_type": "markdown",
   "id": "4b9da093-a570-4069-8144-a36d556011f4",
   "metadata": {},
   "source": [
    "1. Let $\\textbf{u} = (1, -2, 4)$ and $\\textbf{v} = (3,5,1)$ $\\textbf{w} = (2,1,-3)$ find:<br>\r\n",
    "a. $3\\textbf{u}-2\\textbf{v}$<br>\r\n",
    "= 3(1, -2, 4) - 2(3, 5, 1)\r\n",
    "= (3, -6, 12) + (-6, -10, -2)\r\n",
    "= (-3, -16, 10)"
   ]
  },
  {
   "cell_type": "code",
   "execution_count": 124,
   "id": "acca9722-fcaf-4502-8585-34ef29d14ad5",
   "metadata": {},
   "outputs": [
    {
     "name": "stdout",
     "output_type": "stream",
     "text": [
      "[ -3 -16  10]\n"
     ]
    }
   ],
   "source": [
    "#pythonic solution for 1.a\n",
    "import numpy as np\n",
    "u = np.array([1, -2, 4])\n",
    "v = np.array([3, 5, 1])\n",
    "print((3*u)-(2*v))"
   ]
  },
  {
   "cell_type": "markdown",
   "id": "d708ce96-9f20-4456-a1fb-f407b2a4e594",
   "metadata": {},
   "source": [
    "b. $5\\textbf{u}-3\\textbf{v}-4\\textbf{w}$<br>\r\n",
    "= 5(1, -2, 4) + 3(3, 5, 1) - 4(2,1,-3)\r\n",
    "= (5, 10, 20) + (9, 15, 3) + (8,-4,12)\r\n",
    "= (6, 1, 35)"
   ]
  },
  {
   "cell_type": "code",
   "execution_count": 123,
   "id": "ccfe7f4c-0f94-4698-8c8a-8abf0ffac9e2",
   "metadata": {},
   "outputs": [
    {
     "name": "stdout",
     "output_type": "stream",
     "text": [
      "[ 6  1 35]\n"
     ]
    }
   ],
   "source": [
    "#pythonic solution for 1.b\n",
    "import numpy as np\n",
    "u = np.array([1, -2, 4])\n",
    "v = np.array([3, 5, 1])\n",
    "w = np.array([2, 1, -3])\n",
    "print((5*u)+(3*v)-(4*w))"
   ]
  },
  {
   "cell_type": "markdown",
   "id": "8ba698a8-dafc-497f-a2f8-ca9023d6c03e",
   "metadata": {},
   "source": [
    "c. $\\textbf{u} \\cdotp \\textbf{v}$,$\\textbf{v} \\cdotp \\textbf{w}$, $\\textbf{u} \\cdotp \\textbf{w}$<br>\n",
    "      u $\\cdot$ v = 1(3) - 2(5) + 4(1) = -3 <br>\n",
    "      v $\\cdot$ w = 3(2) + 5(1) + 1(-3) = 8 <br>\n",
    "      u $\\cdot$ w = 1(2) - 2(1) + 4(-3) = -12 <br>"
   ]
  },
  {
   "cell_type": "code",
   "execution_count": 88,
   "id": "853ffd7b-d57c-4559-99c7-8fdc3ece37a0",
   "metadata": {},
   "outputs": [
    {
     "name": "stdout",
     "output_type": "stream",
     "text": [
      "u.v= -3\n",
      "u.w= 8\n",
      "v.w= -12\n"
     ]
    }
   ],
   "source": [
    "#pythonic solution for c\n",
    "import numpy as np\n",
    "u = np.array([1, -2, 4])\n",
    "v = np.array([3, 5, 1])\n",
    "w = np.array([2, 1, -3])\n",
    "print(\"u.v=\",u.dot(v))\n",
    "print(\"u.w=\",v.dot(w))\n",
    "print(\"v.w=\",u.dot(w))"
   ]
  },
  {
   "cell_type": "markdown",
   "id": "a90e2312-69b5-4cfc-bfc5-95309435c98b",
   "metadata": {},
   "source": [
    "d. ||$\\textbf{u}$||, ||$\\textbf{v}$||, ||$\\textbf{w}$||<br>\n",
    "\\begin{align}\n",
    "    ||\\textbf{u}|| = \\sqrt{\\textbf{u} \\cdotp \\textbf{u}} = \\sqrt{(1)^2+(-2)^2+(4)^2} = \\sqrt{1 + 4 + 16} = \\sqrt{21}\n",
    "\\end{align}\n",
    "\\begin{align}\n",
    "    ||\\textbf{v}|| =  \\sqrt{\\textbf{v} \\cdotp \\textbf{v}} =  \\sqrt{(3)^2+(5)^2+(1)^2} = \\sqrt{9 + 25 + 1} = \\sqrt{35}\n",
    "\\end{align}\n",
    "\\begin{align}\n",
    "    ||\\textbf{w}|| = \\sqrt{\\textbf{w} \\cdotp \\textbf{v}} = \\sqrt{(2)^2+(1)^2+(-3)^2} = \\sqrt{4 + 1 + 9} = sqrt{14}\n",
    "\\end{align}"
   ]
  },
  {
   "cell_type": "code",
   "execution_count": 89,
   "id": "f3219e80-6589-48b5-99eb-3495208c631f",
   "metadata": {},
   "outputs": [
    {
     "name": "stdout",
     "output_type": "stream",
     "text": [
      "||u||: 4.58257569495584\n",
      "sqrt(21): 4.58257569495584\n",
      "||v||: 5.916079783099616\n",
      "sqrt(35): 5.916079783099616\n",
      "||w||: 3.7416573867739413\n",
      "sqrt(14): 3.7416573867739413\n"
     ]
    }
   ],
   "source": [
    "#pythonic solution for 1.d\n",
    "import numpy as np\n",
    "from numpy.linalg import norm\n",
    "u = np.array([1, -2, 4])\n",
    "v = np.array([3, 5, 1])\n",
    "w = np.array([2, 1, -3])\n",
    "\n",
    "print('||u||:', np.sqrt(u.dot(u)))\n",
    "print('sqrt(21):', np.sqrt(21))\n",
    "print('||v||:', np.sqrt(v.dot(v)))\n",
    "print('sqrt(35):', np.sqrt(35))\n",
    "print('||w||:', np.sqrt(w.dot(w)))\n",
    "print('sqrt(14):', np.sqrt(14))"
   ]
  },
  {
   "cell_type": "markdown",
   "id": "64fdbdbb-d1ee-4627-af87-de2e6f1f74a0",
   "metadata": {},
   "source": [
    "e. If $\\theta$ is the angle between $\\textbf{u}$  and   $\\textbf{v}$, find $\\cos{\\theta}$.<br>\n",
    "\\begin{align}\n",
    "    \\cos{\\theta}=\\frac{\\textbf{u} \\cdotp \\textbf{v}}{||\\textbf{u}|| \\ ||\\textbf{v}||} = \\frac{1(3)+(-2)(5)+4(1)}{\\sqrt{(1)^2+(-2)^2+(4)^2}\\sqrt{(3)^2+(5)^2+(1)^2}} = \\frac{-3}{\\sqrt{21}\\sqrt{35}}\n",
    "\\end{align}"
   ]
  },
  {
   "cell_type": "code",
   "execution_count": 86,
   "id": "7d298468-f258-4ca2-aacf-3515c1a3be6f",
   "metadata": {},
   "outputs": [
    {
     "name": "stdout",
     "output_type": "stream",
     "text": [
      "angle: -0.11065666703449763\n"
     ]
    }
   ],
   "source": [
    "#pythonic solution for 1.e\n",
    "import numpy as np\n",
    "from numpy.linalg import norm\n",
    "u = np.array([1, -2, 4])\n",
    "v = np.array([3, 5, 1])\n",
    "\n",
    "print('angle:', np.dot(u,v)/(np.linalg.norm(u)*np.linalg.norm(v)))"
   ]
  },
  {
   "cell_type": "markdown",
   "id": "7f50331c-cdf5-400e-b434-3899cba2aeed",
   "metadata": {},
   "source": [
    "f. If $\\alpha$ is the angle between $\\textbf{v}$  and   $\\textbf{w}$, find $\\cos{\\alpha}$.<br>\n",
    "\\begin{align}\n",
    "    \\cos{\\alpha}= \\frac{\\textbf{v} \\cdotp \\textbf{w}}{||\\textbf{v}|| \\ ||\\textbf{w}||} = frac{3(2)+5(1)+1(-3)}{\\sqrt{(3)^2+(5)^2+(1)^2}\\sqrt{(2)^2+(1)^2+(-3)^2}} = \\frac{8}{\\sqrt{35}\\sqrt{14}}\n",
    "\\end{align}"
   ]
  },
  {
   "cell_type": "code",
   "execution_count": 87,
   "id": "4fd50c82-1848-4b33-8dae-09467562fe9e",
   "metadata": {},
   "outputs": [
    {
     "name": "stdout",
     "output_type": "stream",
     "text": [
      "angle: 0.36140316116210053\n"
     ]
    }
   ],
   "source": [
    "#pythonic solution for 1.f\n",
    "import numpy as np\n",
    "from numpy.linalg import norm\n",
    "v = np.array([3, 5, 1])\n",
    "w = np.array([2, 1, -3])\n",
    "\n",
    "print('angle:', np.dot(v,w)/(np.linalg.norm(v)*np.linalg.norm(w)))"
   ]
  },
  {
   "cell_type": "markdown",
   "id": "b78d56a5-9bf4-445f-95eb-9a609b73cd8a",
   "metadata": {},
   "source": [
    "g. If $\\beta$ is the angle between $\\textbf{u}$  and   $\\textbf{w}$, find $\\cos{\\beta}$.<br> \n",
    "\\begin{align}\n",
    "    \\cos{\\beta}= \\frac{\\textbf{u} \\cdotp \\textbf{w}}{||\\textbf{u}|| \\ ||\\textbf{w}||} =  \\frac{1(2)+(-2)(1)+4(-3)}{ \\sqrt{(1)^2+(-2)^2+(4)^2}\\sqrt{(2)^2+(1)^2+(-3)^2}} =  \\frac{-12}{\\sqrt{21}\\sqrt{14}}\n",
    "\\end{align}"
   ]
  },
  {
   "cell_type": "code",
   "execution_count": 125,
   "id": "5ae1daaf-b6d7-44e9-b8e6-f8568d6ccfaf",
   "metadata": {},
   "outputs": [
    {
     "name": "stdout",
     "output_type": "stream",
     "text": [
      "angle: -0.6998542122237653\n",
      "angle: -0.6998542122237653\n"
     ]
    }
   ],
   "source": [
    "#pythonic solution for 1.g\n",
    "import numpy as np\n",
    "from numpy.linalg import norm\n",
    "u = np.array([1, -2, 4])\n",
    "w = np.array([2, 1, -3])\n",
    "\n",
    "print('angle:', np.dot(u,w)/(np.linalg.norm(u)*np.linalg.norm(w)))\n",
    "print('angle:',-12/(np.sqrt(21)*np.sqrt(14)))"
   ]
  },
  {
   "cell_type": "markdown",
   "id": "0d4a116d-2b70-4725-9e10-53c48084df9f",
   "metadata": {},
   "source": [
    "h. Find $d(\\textbf{u},\\textbf{v})$.<br>\n",
    "\\begin{align}\n",
    "        d(\\textbf{u},\\textbf{v}) =  ||\\textbf{u} - \\textbf{v}|| = \\sqrt{(1-3)^2 + ((-2)-5)^2 + (4-1)^2} = \\sqrt{4 + 49 + 9} = \\sqrt{62}\n",
    "\\end{align}"
   ]
  },
  {
   "cell_type": "code",
   "execution_count": 126,
   "id": "d31ab078-d08b-427e-9968-deae7769be69",
   "metadata": {},
   "outputs": [
    {
     "name": "stdout",
     "output_type": "stream",
     "text": [
      "d(u,v): 7.874007874011811\n",
      "sqrt(62): 7.874007874011811\n"
     ]
    }
   ],
   "source": [
    "#pythonic solution for 1.h\n",
    "import numpy as np\n",
    "from numpy.linalg import norm\n",
    "u = np.array([1, -2, 4])\n",
    "v = np.array([3, 5, 1])\n",
    "w = np.array([2, 1, -3])\n",
    "\n",
    "print('d(u,v):', np.linalg.norm(u - v))\n",
    "print('sqrt(62):', np.sqrt(62))"
   ]
  },
  {
   "cell_type": "markdown",
   "id": "2670f1e9-c2e3-4dc7-a8ed-c3240de69efc",
   "metadata": {},
   "source": [
    "i. Find $d(\\textbf{w},\\textbf{v})$.<br>\n",
    "\\begin{align}\n",
    "        d(\\textbf{w},\\textbf{v}) = \n",
    "        ||\\textbf{w} - \\textbf{v}|| = \n",
    "        \\sqrt{(2-3)^2 + (1-5)^2 + ((-3)-1)^2} = \n",
    "        \\sqrt{1 + 16 + 16} = \n",
    "        \\sqrt{33}\n",
    "\\end{align}"
   ]
  },
  {
   "cell_type": "code",
   "execution_count": 127,
   "id": "9b2fdd87-0347-4c60-94db-ca59e16845c1",
   "metadata": {},
   "outputs": [
    {
     "name": "stdout",
     "output_type": "stream",
     "text": [
      "d(w,v): 5.744562646538029\n",
      "sqrt(33): 5.744562646538029\n"
     ]
    }
   ],
   "source": [
    "#pythonic solution for 1.i\n",
    "import numpy as np\n",
    "from numpy.linalg import norm\n",
    "u = np.array([1, -2, 4])\n",
    "v = np.array([3, 5, 1])\n",
    "w = np.array([2, 1, -3])\n",
    "\n",
    "print('d(w,v):', np.linalg.norm(w - v))\n",
    "print('sqrt(33):', np.sqrt(33))"
   ]
  },
  {
   "cell_type": "markdown",
   "id": "cf1162ed-1c7c-4410-9b52-5570f93369da",
   "metadata": {},
   "source": [
    "j. Find $d(\\textbf{u},\\textbf{w})$. <br>\n",
    "\\begin{align}\n",
    "        d(\\textbf{u},\\textbf{w}) = ||\\textbf{u} - \\textbf{w}|| = \\sqrt{(1-2)^2 + ((-2)-1)^2 + (4-(-3)^2} = \n",
    "        \\sqrt{1 + 9 + 49} = \\sqrt{59}\n",
    "\\end{align}"
   ]
  },
  {
   "cell_type": "code",
   "execution_count": 128,
   "id": "e2b77cb9-d0d9-4408-a241-8a3c0dcd84d4",
   "metadata": {},
   "outputs": [
    {
     "name": "stdout",
     "output_type": "stream",
     "text": [
      "d(w,v):  7.681145747868608\n",
      "sqrt(59):  7.681145747868608\n"
     ]
    }
   ],
   "source": [
    "#pythonic solution for 1.j\n",
    "import numpy as np\n",
    "from numpy.linalg import norm\n",
    "u = np.array([1, -2, 4])\n",
    "v = np.array([3, 5, 1])\n",
    "w = np.array([2, 1, -3])\n",
    "\n",
    "print('d(w,v): ', np.linalg.norm(u - w))\n",
    "print('sqrt(59): ', np.sqrt(59))"
   ]
  },
  {
   "cell_type": "markdown",
   "id": "59870881-6611-40bf-9b46-70ed7d23f9f2",
   "metadata": {},
   "source": [
    "k. Find $proj(\\textbf{u},\\textbf{v})$.<br>\n",
    "\\begin{align}\n",
    "    proj(\\textbf{u},\\textbf{v}) = \\frac{\\textbf{u} \\cdotp \\textbf{v}}{||\\textbf{v}||^2} \\textbf{v} = \\frac{-3}{(\\sqrt{35})^2}(3,5,1) = \\frac{-3}{35}(3,5,1) = (\\frac{-9}{35},\\frac{-15}{35},\\frac{-3}{35})\n",
    "\\end{align}"
   ]
  },
  {
   "cell_type": "code",
   "execution_count": 129,
   "id": "0a5af3c3-2705-4e20-9628-acb0567b665a",
   "metadata": {},
   "outputs": [
    {
     "name": "stdout",
     "output_type": "stream",
     "text": [
      "proj(u,v): [-0.25714286 -0.42857143 -0.08571429]\n",
      "proj(u,v): [-0.2571428571428571, -0.42857142857142855, -0.08571428571428572]\n"
     ]
    }
   ],
   "source": [
    "#pythonic solution for 1.k\n",
    "import numpy as np\n",
    "from numpy.linalg import norm\n",
    "u = np.array([1, -2, 4])\n",
    "v = np.array([3, 5, 1])\n",
    "w = np.array([2, 1, -3])\n",
    "\n",
    "print('proj(u,v):',u.dot(v)*v/(np.linalg.norm(v)**2) )\n",
    "print('proj(u,v):',[-9/35,-15/35,-3/35])"
   ]
  },
  {
   "cell_type": "markdown",
   "id": "9a78f3de-2b2c-4af1-b80c-a3b3f422135c",
   "metadata": {},
   "source": [
    "l. Find $proj(\\textbf{w},\\textbf{v})$.<br>\n",
    "\\begin{align}\n",
    "    proj(\\textbf{w},\\textbf{v}) = \\frac{\\textbf{w} \\cdotp \\textbf{v}}{||\\textbf{v}||^2} \\textbf{v} = \\frac{8}{(\\sqrt{35})^2}(3,5,1) = \\frac{8}{35}(3,5,1) = (\\frac{24}{35},\\frac{40}{35},\\frac{8}{35})\n",
    "\\end{align}"
   ]
  },
  {
   "cell_type": "code",
   "execution_count": 132,
   "id": "e27edb18-930d-46b9-b3ea-c6b21075aec5",
   "metadata": {},
   "outputs": [
    {
     "name": "stdout",
     "output_type": "stream",
     "text": [
      "proj(w,v): [0.68571429 1.14285714 0.22857143]\n",
      "proj(w,v): [0.6857142857142857, 1.1428571428571428, 0.22857142857142856]\n"
     ]
    }
   ],
   "source": [
    "#pythonic solution for 1.l\n",
    "import numpy as np\n",
    "from numpy.linalg import norm\n",
    "u = np.array([1, -2, 4])\n",
    "v = np.array([3, 5, 1])\n",
    "w = np.array([2, 1, -3])\n",
    "\n",
    "print('proj(w,v):',w.dot(v)*v/(np.linalg.norm(v)**2) )\n",
    "print('proj(w,v):',[24/35,40/35,8/35])"
   ]
  },
  {
   "cell_type": "markdown",
   "id": "94c3717c-59a3-4981-96a3-5f25c9af0f18",
   "metadata": {},
   "source": [
    "m. Find $proj(\\textbf{u},\\textbf{w})$. <br> \n",
    "\\begin{align}\n",
    "    proj(\\textbf{u},\\textbf{w}) =\n",
    "    \\frac{\\textbf{u} \\cdotp \\textbf{w}}{||\\textbf{w}||^2} \\textbf{w} =\n",
    "    \\frac{-12}{(\\sqrt{14})^2}(2,1,-3) =\n",
    "    \\frac{-6}{7}(2,1,-3) =\n",
    "    (\\frac{-12}{7},\\frac{-6}{7},\\frac{18}{7})\n",
    "\\end{align}"
   ]
  },
  {
   "cell_type": "code",
   "execution_count": 133,
   "id": "57e8c75a-90f8-4e2a-a66a-72e3dfd34855",
   "metadata": {},
   "outputs": [
    {
     "name": "stdout",
     "output_type": "stream",
     "text": [
      "proj(w,v): [-1.71428571 -0.85714286  2.57142857]\n",
      "proj(w,v): [-1.7142857142857142, -0.8571428571428571, 2.5714285714285716]\n"
     ]
    }
   ],
   "source": [
    "#pythonic solution for 1.m\n",
    "import numpy as np\n",
    "from numpy.linalg import norm\n",
    "u = np.array([1, -2, 4])\n",
    "v = np.array([3, 5, 1])\n",
    "w = np.array([2, 1, -3])\n",
    "\n",
    "print('proj(w,v):',u.dot(w)*w/(np.linalg.norm(w)**2) )\n",
    "print('proj(w,v):',[-12/7,-6/7,18/7])"
   ]
  },
  {
   "cell_type": "markdown",
   "id": "6bde97f8-0482-470e-8ac7-f61d51ecb917",
   "metadata": {},
   "source": [
    "---\n",
    "2. Repeat problem 1 with the following column vectors:\n",
    "\\begin{align}\n",
    "    \\textbf{u} &= \\begin{bmatrix}\n",
    "           1 \\\\\n",
    "           3 \\\\\n",
    "           -4\n",
    "         \\end{bmatrix}, \\textbf{v} = \\begin{bmatrix}\n",
    "           2 \\\\\n",
    "           1 \\\\\n",
    "           5\n",
    "         \\end{bmatrix}, \\textbf{w} = \\begin{bmatrix}\n",
    "           3 \\\\\n",
    "           -2 \\\\\n",
    "           6\n",
    "         \\end{bmatrix}\n",
    "  \\end{align}"
   ]
  },
  {
   "cell_type": "markdown",
   "id": "d57411cc-7746-476e-9b73-a8d090a93001",
   "metadata": {},
   "source": [
    "a. $3\\textbf{u}-2\\textbf{v}$\n",
    "\\begin{align}\n",
    "    3\\textbf{u}-2\\textbf{v} &= 3\\begin{bmatrix}\n",
    "           1 \\\\\n",
    "           3 \\\\\n",
    "           -4\n",
    "         \\end{bmatrix} - 2 \\begin{bmatrix}\n",
    "           2 \\\\\n",
    "           1 \\\\\n",
    "           5\n",
    "         \\end{bmatrix}= \\begin{bmatrix}\n",
    "           3 \\\\\n",
    "           9 \\\\\n",
    "           -12\n",
    "         \\end{bmatrix} + \\begin{bmatrix}\n",
    "           -4 \\\\\n",
    "           -2 \\\\\n",
    "           -10\n",
    "         \\end{bmatrix} = \\begin{bmatrix}\n",
    "           -1 \\\\\n",
    "           7 \\\\\n",
    "           -22\n",
    "         \\end{bmatrix}\n",
    "    \\end{align}\n"
   ]
  },
  {
   "cell_type": "code",
   "execution_count": 134,
   "id": "e69e3c6e-9606-47e3-9eb7-8141c2df50c9",
   "metadata": {},
   "outputs": [
    {
     "name": "stdout",
     "output_type": "stream",
     "text": [
      "[ -1   7 -22]\n"
     ]
    }
   ],
   "source": [
    "#pythonic solution for 2.a\n",
    "import numpy as np\n",
    "u = np.array([1, 3, -4])\n",
    "v = np.array([2, 1, 5])\n",
    "print((3*u)-(2*v))"
   ]
  },
  {
   "cell_type": "markdown",
   "id": "37c78204-face-40c0-a678-81fe8448bb6a",
   "metadata": {},
   "source": [
    "b. $5\\textbf{u}+3\\textbf{v}-4\\textbf{w}$\n",
    "\\begin{align}\n",
    "    &= 5\\begin{bmatrix}\n",
    "           1 \\\\\n",
    "           3 \\\\\n",
    "           -4\n",
    "         \\end{bmatrix} + 3 \\begin{bmatrix}\n",
    "           2 \\\\\n",
    "           1 \\\\\n",
    "           5\n",
    "         \\end{bmatrix}- 4 \\begin{bmatrix}\n",
    "           3 \\\\\n",
    "           -2 \\\\\n",
    "           6\n",
    "         \\end{bmatrix}\n",
    "    \\end{align}\n",
    "\\begin{align}\n",
    "   &= \\begin{bmatrix}\n",
    "        5 \\\\\n",
    "        15 \\\\\n",
    "        -20\n",
    "      \\end{bmatrix} + \\begin{bmatrix}\n",
    "        6 \\\\\n",
    "        3 \\\\\n",
    "        15\n",
    "      \\end{bmatrix} + \\begin{bmatrix}\n",
    "        -12 \\\\\n",
    "        8 \\\\\n",
    "        -24\n",
    "      \\end{bmatrix}\n",
    "    \\end{align}\n",
    "\\begin{align}\n",
    "    &= \\begin{bmatrix}\n",
    "        -1 \\\\\n",
    "        26 \\\\\n",
    "        -29\n",
    "    \\end{bmatrix}\n",
    "\\end{align}"
   ]
  },
  {
   "cell_type": "code",
   "execution_count": 135,
   "id": "6c03f8e1-80b5-4f49-ab70-5e10ab70cc5e",
   "metadata": {},
   "outputs": [
    {
     "name": "stdout",
     "output_type": "stream",
     "text": [
      "[ -1  26 -29]\n"
     ]
    }
   ],
   "source": [
    "#pythonic solution for 2.b\n",
    "import numpy as np\n",
    "u = np.array([1, 3, -4])\n",
    "v = np.array([2, 1, 5])\n",
    "w = np.array([3, -2, 6])\n",
    "print((5*u)+(3*v)-(4*w))"
   ]
  },
  {
   "cell_type": "markdown",
   "id": "431068cb-0b42-4d2b-b80f-b828af21ecbc",
   "metadata": {},
   "source": [
    "c. $\\textbf{u} \\cdotp \\textbf{v}$,$\\textbf{v} \\cdotp \\textbf{w}$, $\\textbf{u} \\cdotp \\textbf{w}$<br>\n",
    "      u $\\cdot$ v = 1(2) + 3(1) - 4(5) = -15 <br>\n",
    "      v $\\cdot$ w = 2(3) + 1(-2) + 5(6) = 34 <br>\n",
    "      u $\\cdot$ w = 1(3) + 3(-2) - 4(6) = -27 <br>"
   ]
  },
  {
   "cell_type": "code",
   "execution_count": 136,
   "id": "fe34bcee-a3e5-4261-8e51-2893d04e8da5",
   "metadata": {},
   "outputs": [
    {
     "name": "stdout",
     "output_type": "stream",
     "text": [
      "u.v= -15\n",
      "v.w= 34\n",
      "u.w= -27\n"
     ]
    }
   ],
   "source": [
    "#pythonic solution for 2.c\n",
    "import numpy as np\n",
    "u = np.array([1, 3, -4])\n",
    "v = np.array([2, 1, 5])\n",
    "w = np.array([3, -2, 6])\n",
    "\n",
    "print(\"u.v=\", u.dot(v))\n",
    "print(\"v.w=\", v.dot(w))\n",
    "print(\"u.w=\", u.dot(w))"
   ]
  },
  {
   "cell_type": "markdown",
   "id": "ae0c992e-152a-4570-8602-172f4217cde9",
   "metadata": {},
   "source": [
    "d. ||$\\textbf{u}$||, ||$\\textbf{v}$||, ||$\\textbf{w}$||<br>\n",
    "\\begin{align}\n",
    "    ||\\textbf{u}|| =\n",
    "    \\sqrt{\\textbf{u} \\cdotp \\textbf{u}} =\n",
    "    \\sqrt{(1)^2+(3)^2+(4)^2} =\n",
    "    \\sqrt{1 + 9 + 16} =\n",
    "    \\sqrt{26}\n",
    "\\end{align}\n",
    "\\begin{align}\n",
    "    ||\\textbf{v}|| = Q\n",
    "    \\sqrt{\\textbf{v} \\cdotp \\textbf{v}} = \n",
    "    \\sqrt{(2)^2+(1)^2+(5)^2} = \n",
    "    \\sqrt{4 + 1 + 25} = \n",
    "    \\sqrt{30}\n",
    "\\end{align}\n",
    "\\begin{align}\n",
    "    ||\\textbf{w}|| = \n",
    "    \\sqrt{\\textbf{w} \\cdotp \\textbf{v}} = \n",
    "    \\sqrt{(3)^2+(-2)^2+(6)^2} = \n",
    "    \\sqrt{9 + 4 + 36} = \n",
    "    \\sqrt{49}\n",
    "\\end{align}"
   ]
  },
  {
   "cell_type": "code",
   "execution_count": 137,
   "id": "0b9c5d8b-eb25-4307-a384-62aecd1ca352",
   "metadata": {},
   "outputs": [
    {
     "name": "stdout",
     "output_type": "stream",
     "text": [
      "||u||: 5.0990195135927845\n",
      "sqrt(26): 5.0990195135927845\n",
      "||v||: 5.477225575051661\n",
      "sqrt(30): 5.477225575051661\n",
      "||w||: 7.0\n",
      "sqrt(49): 7.0\n"
     ]
    }
   ],
   "source": [
    "#pythonic solution for 2.d\n",
    "import numpy as np\n",
    "from numpy.linalg import norm\n",
    "u = np.array([1, 3, -4])\n",
    "v = np.array([2, 1, 5])\n",
    "w = np.array([3, -2, 6])\n",
    "\n",
    "print('||u||:', np.sqrt(u.dot(u)))\n",
    "print('sqrt(26):', np.sqrt(26))\n",
    "print('||v||:', np.sqrt(v.dot(v)))\n",
    "print('sqrt(30):', np.sqrt(30))\n",
    "print('||w||:', np.sqrt(w.dot(w)))\n",
    "print('sqrt(49):', np.sqrt(49))"
   ]
  },
  {
   "cell_type": "markdown",
   "id": "d20b375f-9508-4124-a814-4bdc898471f8",
   "metadata": {},
   "source": [
    "e. If $\\theta$ is the angle between $\\textbf{u}$  and   $\\textbf{v}$, find $\\cos{\\theta}$.<br>\n",
    "\n",
    "- $\\cos{\\theta}=\\frac{\\textbf{u} \\cdotp \\textbf{v}}{||\\textbf{u}|| \\ ||\\textbf{v}||} = \n",
    "    \\frac{-15}{\\sqrt{26}\\sqrt{30}}$\n"
   ]
  },
  {
   "cell_type": "code",
   "execution_count": 138,
   "id": "7e484689-ca00-46ab-af35-2f4b64a31c52",
   "metadata": {},
   "outputs": [
    {
     "name": "stdout",
     "output_type": "stream",
     "text": [
      "angle: -0.5370861555295747\n",
      "angle: -0.5370861555295747\n"
     ]
    }
   ],
   "source": [
    "#pythonic solution for 2.e\n",
    "import numpy as np\n",
    "from numpy.linalg import norm\n",
    "u = np.array([1, 3, -4])\n",
    "v = np.array([2, 1, 5])\n",
    "w = np.array([3, -2, 6])\n",
    "\n",
    "print('angle:', np.dot(u,v)/(np.linalg.norm(u)*np.linalg.norm(v)))\n",
    "print('angle:',-15/(np.sqrt(26)*np.sqrt(30)))"
   ]
  },
  {
   "cell_type": "markdown",
   "id": "c2b079b8-3a6f-442a-8332-ea132f034a59",
   "metadata": {},
   "source": [
    "f. If $\\alpha$ is the angle between $\\textbf{v}$  and   $\\textbf{w}$, find $\\cos{\\alpha}$.<br>\n",
    "\\begin{align}\n",
    "    \\cos{\\alpha}=\\frac{\\textbf{u} \\cdotp \\textbf{v}}{||\\textbf{u}|| \\ ||\\textbf{v}||} = \n",
    "    \\frac{34}{\\sqrt{30}\\sqrt{49}}\n",
    "\\end{align}"
   ]
  },
  {
   "cell_type": "code",
   "execution_count": 139,
   "id": "0bf943d0-85cf-4bbf-a17f-5a81b0c0f646",
   "metadata": {},
   "outputs": [
    {
     "name": "stdout",
     "output_type": "stream",
     "text": [
      "angle: 0.8867889026274118\n",
      "angle: 0.8867889026274118\n"
     ]
    }
   ],
   "source": [
    "#pythonic solution for 2.f\n",
    "import numpy as np\n",
    "from numpy.linalg import norm\n",
    "u = np.array([1, 3, -4])\n",
    "v = np.array([2, 1, 5])\n",
    "w = np.array([3, -2, 6])\n",
    "\n",
    "print('angle:', np.dot(v,w)/(np.linalg.norm(w)*np.linalg.norm(v)))\n",
    "print('angle:',34/(np.sqrt(30)*np.sqrt(49)))"
   ]
  },
  {
   "cell_type": "markdown",
   "id": "d2df373a-6809-4c74-8eeb-11e3e8d95d8d",
   "metadata": {},
   "source": [
    "g. If $\\beta$ is the angle between $\\textbf{u}$  and   $\\textbf{w}$, find $\\cos{\\beta}$.\n",
    "\\begin{align}\n",
    "    \\cos{\\beta}=\\frac{\\textbf{u} \\cdotp \\textbf{v}}{||\\textbf{u}|| \\ ||\\textbf{v}||} = \n",
    "    \\frac{-27}{\\sqrt{26}\\sqrt{49}}\n",
    "\\end{align}"
   ]
  },
  {
   "cell_type": "code",
   "execution_count": 140,
   "id": "8a3d0807-e7ee-4e64-a744-eb9bcb238b2b",
   "metadata": {},
   "outputs": [
    {
     "name": "stdout",
     "output_type": "stream",
     "text": [
      "angle: -0.7564479498187099\n",
      "angle: -0.7564479498187099\n"
     ]
    }
   ],
   "source": [
    "#pythonic solution for 2.g\n",
    "import numpy as np\n",
    "from numpy.linalg import norm\n",
    "u = np.array([1, 3, -4])\n",
    "v = np.array([2, 1, 5])\n",
    "w = np.array([3, -2, 6])\n",
    "\n",
    "print('angle:', np.dot(u,w)/(np.linalg.norm(u)*np.linalg.norm(w)))\n",
    "print('angle:',-27/(np.sqrt(26)*np.sqrt(49)))"
   ]
  },
  {
   "cell_type": "markdown",
   "id": "067f8195-7a7b-4e12-bca3-59d2e7ecb14d",
   "metadata": {},
   "source": [
    "h. Find $d(\\textbf{u},\\textbf{v})$.<br>\n",
    "\\begin{align}\n",
    "        d(\\textbf{u},\\textbf{v}) = \n",
    "        ||\\textbf{u} - \\textbf{v}|| = \n",
    "        \\sqrt{(1-2)^2 + (3-1)^2 + ((-4)-5)^2} = \n",
    "        \\sqrt{1 + 4 + 81} = \n",
    "        \\sqrt{86}\n",
    "\\end{align}"
   ]
  },
  {
   "cell_type": "code",
   "execution_count": 84,
   "id": "b7c75a35-7646-4cee-8434-ac8f135dcb2b",
   "metadata": {},
   "outputs": [
    {
     "name": "stdout",
     "output_type": "stream",
     "text": [
      "d(u,v): 9.273618495495704\n"
     ]
    }
   ],
   "source": [
    "#pythonic solution for 2.h\n",
    "import numpy as np\n",
    "from numpy.linalg import norm\n",
    "u = np.array([1, 3, -4])\n",
    "v = np.array([2, 1, 5])\n",
    "w = np.array([3, -2, 6])\n",
    "\n",
    "print('d(u,v):', np.linalg.norm(u - v))"
   ]
  },
  {
   "cell_type": "markdown",
   "id": "bbb2ffed-5b77-4513-b32e-aad30222f9c2",
   "metadata": {},
   "source": [
    "i. Find $d(\\textbf{w},\\textbf{v})$.<br>\n",
    "\\begin{align}\n",
    "        d(\\textbf{w},\\textbf{v}) = \n",
    "        ||\\textbf{w} - \\textbf{v}|| = \n",
    "        \\sqrt{(3-2)^2 + ((-2)-1)^2 + (6-5)^2} = \n",
    "        \\sqrt{1 + 9 + 1} = \n",
    "        \\sqrt{11}\n",
    "\\end{align}"
   ]
  },
  {
   "cell_type": "code",
   "execution_count": 131,
   "id": "afd8420c-301c-4ed7-878f-b28ded6f8cce",
   "metadata": {},
   "outputs": [
    {
     "name": "stdout",
     "output_type": "stream",
     "text": [
      "d(w,v): 3.3166247903554\n",
      "sqrt(11): 3.3166247903554\n"
     ]
    }
   ],
   "source": [
    "#pythonic solution for 2.i\n",
    "import numpy as np\n",
    "from numpy.linalg import norm\n",
    "u = np.array([1, 3, -4])\n",
    "v = np.array([2, 1, 5])\n",
    "w = np.array([3, -2, 6])\n",
    "\n",
    "print('d(w,v):', np.linalg.norm(w - v))\n",
    "print('sqrt(11):', np.sqrt(11))"
   ]
  },
  {
   "cell_type": "markdown",
   "id": "1b8278a2-7b6d-4761-8c11-759bb7f50859",
   "metadata": {},
   "source": [
    "j. Find $d(\\textbf{u},\\textbf{w})$. <br>\n",
    "\\begin{align}\n",
    "d(\\textbf{u},\\textbf{w}) = \n",
    "||\\textbf{u} - \\textbf{w}|| = \n",
    "\\sqrt{(1-3)^2 + (3-(-2))^2 + ((-4)-6)^2} = \n",
    "\\sqrt{4 + 25 +100} = \n",
    "\\sqrt{129}\n",
    "\\end{align}"
   ]
  },
  {
   "cell_type": "code",
   "execution_count": 130,
   "id": "6e5abc86-3949-47cf-86e0-2efb6f6d703d",
   "metadata": {},
   "outputs": [
    {
     "name": "stdout",
     "output_type": "stream",
     "text": [
      "d(u,w): 11.357816691600547\n",
      "sqrt(129): 11.357816691600547\n"
     ]
    }
   ],
   "source": [
    "#pythonic solution for 2.j\n",
    "import numpy as np\n",
    "from numpy.linalg import norm\n",
    "u = np.array([1, 3, -4])\n",
    "v = np.array([2, 1, 5])\n",
    "w = np.array([3, -2, 6])\n",
    "\n",
    "print('d(u,w):', np.linalg.norm(u - w))\n",
    "print('sqrt(129):', np.sqrt(129))"
   ]
  },
  {
   "cell_type": "markdown",
   "id": "06b9f43f-38a2-4b81-bf67-fe1bed92b713",
   "metadata": {},
   "source": [
    "k. Find $proj(\\textbf{u},\\textbf{v})$.<br>\n",
    "\\begin{align}\n",
    "proj(\\textbf{u},\\textbf{v}) =\n",
    "\\frac{\\textbf{u} \\cdotp \\textbf{v}}{||\\textbf{v}||^2} \\textbf{v} =\n",
    "\\frac{-15}{(\\sqrt{30})^2}(2,1,5) =\n",
    "\\frac{-15}{30}(2,1,5) =\n",
    "\\frac{-1}{2}(2,1,5) = \n",
    "(\\frac{-2}{2},\\frac{-1}{2},\\frac{-5}{2}) =\n",
    "\\end{align}"
   ]
  },
  {
   "cell_type": "code",
   "execution_count": 64,
   "id": "48b6a0fe-0132-4379-a9e1-f8cae9769ca3",
   "metadata": {},
   "outputs": [
    {
     "name": "stdout",
     "output_type": "stream",
     "text": [
      "proj(u,v): [-1.  -0.5 -2.5]\n",
      "proj(u,v): [-1.0, -0.5, -2.5]\n"
     ]
    }
   ],
   "source": [
    "#pythonic solution for 2.k\n",
    "import numpy as np\n",
    "from numpy.linalg import norm\n",
    "u = np.array([1, 3, -4])\n",
    "v = np.array([2, 1, 5])\n",
    "w = np.array([3, -2, 6])\n",
    "\n",
    "print('proj(u,v):',u.dot(v)*v/(np.linalg.norm(v)**2) )\n",
    "print('proj(u,v):',[-2/2,-1/2,-5/2])"
   ]
  },
  {
   "cell_type": "markdown",
   "id": "72e61d17-2440-442c-8f3c-7288b7ff8044",
   "metadata": {},
   "source": [
    "l. Find $proj(\\textbf{w},\\textbf{v})$.<br>\n",
    "\\begin{align}\n",
    "proj(\\textbf{w},\\textbf{v}) = \\frac{\\textbf{w} \\cdotp \\textbf{v}}{||\\textbf{v}||^2} \\textbf{v} = \\frac{34}{(\\sqrt{30})^2}(2,1,5) = \\frac{34}{30}(2,1,5) = (\\frac{68}{30},\\frac{34}{30},\\frac{170}{30})\n",
    "\\end{align}"
   ]
  },
  {
   "cell_type": "code",
   "execution_count": 72,
   "id": "57040d83-9e40-4d24-a09c-355f71a4fe81",
   "metadata": {},
   "outputs": [
    {
     "name": "stdout",
     "output_type": "stream",
     "text": [
      "proj(w,v): [2.26666667 1.13333333 5.66666667]\n",
      "proj(w,v): [2.2666666666666666, 1.1333333333333333, 5.666666666666667]\n"
     ]
    }
   ],
   "source": [
    "#pythonic solution for 2.l\n",
    "import numpy as np\n",
    "from numpy.linalg import norm\n",
    "u = np.array([1, 3, -4])\n",
    "v = np.array([2, 1, 5])\n",
    "w = np.array([3, -2, 6])\n",
    "\n",
    "print('proj(w,v):',w.dot(v)*v/(np.linalg.norm(v)**2) )\n",
    "print('proj(w,v):',[68/30,34/30,170/30])"
   ]
  },
  {
   "cell_type": "markdown",
   "id": "3d5673cf-eb61-495c-a6b5-0e63c22a8594",
   "metadata": {},
   "source": [
    "m. Find $proj(\\textbf{u},\\textbf{w})$. <br> \n",
    "\\begin{align}\n",
    "    proj(\\textbf{u},\\textbf{w}) = \\frac{\\textbf{u} \\cdotp \\textbf{w}}{||\\textbf{w}||^2} \\textbf{w} = \\frac{-27}{(\\sqrt{49})^2}(3,-2,6) = \\frac{-27}{49}(3,-2,6) = (\\frac{-81}{49},\\frac{54}{49},\\frac{-162}{49})\n",
    "\\end{align}"
   ]
  },
  {
   "cell_type": "code",
   "execution_count": 68,
   "id": "bf2d9093-2063-4fc3-8735-c1f6cf9e6ae2",
   "metadata": {},
   "outputs": [
    {
     "name": "stdout",
     "output_type": "stream",
     "text": [
      "proj(w,v): [-1.65306122  1.10204082 -3.30612245]\n",
      "proj(w,v): [-1.653061224489796, 1.1020408163265305, -3.306122448979592]\n"
     ]
    }
   ],
   "source": [
    "#pythonic solution for 2.m\n",
    "import numpy as np\n",
    "from numpy.linalg import norm\n",
    "u = np.array([1, 3, -4])\n",
    "v = np.array([2, 1, 5])\n",
    "w = np.array([3, -2, 6])\n",
    "\n",
    "print('proj(w,v):',u.dot(w)*w/(np.linalg.norm(w)**2) )\n",
    "print('proj(w,v):',[-81/49,54/49,-162/49])"
   ]
  },
  {
   "cell_type": "markdown",
   "id": "8e088a46-561d-4f3d-8335-efb682e7873f",
   "metadata": {},
   "source": [
    "--- \n",
    "3. Let $\\textbf{u} = (2,-5,4,6,-3)$, $\\textbf{v} = (5,-2,1,-7,-4)$, and $\\textbf{w} = (2,1,-3)$ find:<br>\n",
    "a. $4\\textbf{u}-3\\textbf{v}$<br>\n",
    "    = 4(2, -5, 4, 6 ) - 3(5, -2, 1, -7, -4)\n",
    "    = (8, -20, 16, 24, -12) + (-15, 6, -3, 21, 12) \n",
    "    = (-7, -14, 13, 45, 0)"
   ]
  },
  {
   "cell_type": "code",
   "execution_count": 70,
   "id": "6677b2f1-05e8-43ea-9c28-365da4005067",
   "metadata": {},
   "outputs": [
    {
     "name": "stdout",
     "output_type": "stream",
     "text": [
      "[ -7 -14  13  45   0]\n"
     ]
    }
   ],
   "source": [
    "#pythonic solution for 3.a\n",
    "import numpy as np\n",
    "u = np.array([2, -5, 4, 6, -3])\n",
    "v = np.array([5, -2, 1, -7, -4])\n",
    "w = np.array([2, 1, -3])\n",
    "print((4*u)-(3*v))"
   ]
  },
  {
   "cell_type": "markdown",
   "id": "02d3a385-35d8-497e-87e7-886a2312ff33",
   "metadata": {},
   "source": [
    "b. $5\\textbf{u}+2\\textbf{v}-2\\textbf{w}$ <br>\n",
    "= 5(2, -5, 4, 6, -3)+ 2(5, -2, 1, -7,-4) - 2(2, 1,-3) \n",
    "= (10, -25, 20, 30, -15) + (10, -4, 2, -14, -8) + (-4, -2, 6)\n",
    "= (16, -31, 28, 16, -23)"
   ]
  },
  {
   "cell_type": "code",
   "execution_count": 73,
   "id": "9807d321-bc2a-4f21-bbe2-280e0d2717d8",
   "metadata": {},
   "outputs": [
    {
     "name": "stdout",
     "output_type": "stream",
     "text": [
      "[ 16 -31  28  16 -23]\n"
     ]
    }
   ],
   "source": [
    "#pythonic solution for 3.b\n",
    "import numpy as np\n",
    "u = np.array([2, -5, 4, 6, -3])\n",
    "v = np.array([5, -2, 1, -7, -4])\n",
    "w = np.array([2, 1, -3, 0, 0])\n",
    "print((5*u) + (2*v) - (2*w))"
   ]
  },
  {
   "cell_type": "markdown",
   "id": "f7a4a8a2-ac7f-4c6d-8316-e4ecc9f959ed",
   "metadata": {},
   "source": [
    "c. $\\textbf{u} \\cdotp \\textbf{v}$,$\\textbf{v} \\cdotp \\textbf{w}$, $\\textbf{u} \\cdotp \\textbf{w}$<br>\n",
    "      u $\\cdot$ v = (2)(5) + (-5)(-2) + (4)(1) + (6)(-7) + (-3)(-4) = -6 <br>\n",
    "      v $\\cdot$ w = (5)(2) + (-2)(1) + (1)(-3) + (-7)(0) + (-4)(0) = 5 <br>\n",
    "      u $\\cdot$ w = (2)(2) + (-5)(1) + (4)(-3) + (6)(0) + (-3)(0) = -13 <br>"
   ]
  },
  {
   "cell_type": "code",
   "execution_count": 75,
   "id": "bddd0ede-52f8-4551-a482-d576cbb190ef",
   "metadata": {},
   "outputs": [
    {
     "name": "stdout",
     "output_type": "stream",
     "text": [
      "u.v= -6\n",
      "v.w= 5\n",
      "u.w= -13\n"
     ]
    }
   ],
   "source": [
    "#pythonic solution for 3.c\n",
    "import numpy as np\n",
    "u = np.array([2, -5, 4, 6, -3])\n",
    "v = np.array([5, -2, 1, -7, -4])\n",
    "w = np.array([2, 1, -3,0, 0])\n",
    "\n",
    "print(\"u.v=\", u.dot(v))\n",
    "print(\"v.w=\", v.dot(w))\n",
    "print(\"u.w=\", u.dot(w))"
   ]
  },
  {
   "cell_type": "markdown",
   "id": "eeb86791-cc17-4e39-bd2b-f2025cc475f8",
   "metadata": {},
   "source": [
    "d. ||$\\textbf{u}$||, ||$\\textbf{v}$||, ||$\\textbf{w}$||<br>\n",
    "   $ ||\\textbf{u}|| =\n",
    "    \\sqrt{\\textbf{u} \\cdotp \\textbf{u}} =\n",
    "    \\sqrt{(2)^2+(-5)^2+(4)^2+(6)^2+(-3)^2} =\n",
    "    \\sqrt{4 + 25 + 16 + 36 + 9} =\n",
    "    \\sqrt{90} $ <br>\n",
    "    $ ||\\textbf{v}|| = \n",
    "    \\sqrt{\\textbf{v} \\cdotp \\textbf{v}} = \n",
    "    \\sqrt{(5)^2+(-2)^2+(1)^2+(-7)^2+(-4)^2} = \n",
    "    \\sqrt{25 + 4 + 1 + 49 + 16} = \n",
    "    \\sqrt{95} $ <br>\n",
    "    $ ||\\textbf{w}|| = \n",
    "    \\sqrt{\\textbf{w} \\cdotp \\textbf{v}} = \n",
    "    \\sqrt{(2)^2+(1)^2+(-3)^2} = \n",
    "    \\sqrt{4 + 1 + 9} = \n",
    "    \\sqrt{14} $"
   ]
  },
  {
   "cell_type": "code",
   "execution_count": 77,
   "id": "eaa76b4e-3448-47b3-b59c-16fd30482fa0",
   "metadata": {},
   "outputs": [
    {
     "name": "stdout",
     "output_type": "stream",
     "text": [
      "||u||:  9.486832980505138\n",
      "sqrt(90):  9.486832980505138\n",
      "||v||:  9.746794344808963\n",
      "sqrt(95):  9.746794344808963\n",
      "||w||:  3.7416573867739413\n",
      "sqrt(14):  3.7416573867739413\n"
     ]
    }
   ],
   "source": [
    "#pythonic solution for 3.d\n",
    "import numpy as np\n",
    "from numpy.linalg import norm\n",
    "u = np.array([2, -5, 4, 6, -3])\n",
    "v = np.array([5, -2, 1, -7, -4])\n",
    "w = np.array([2, 1, -3])\n",
    "\n",
    "print('||u||: ', np.sqrt(u.dot(u)))\n",
    "print('sqrt(90): ', np.sqrt(90))\n",
    "print('||v||: ', np.sqrt(v.dot(v)))\n",
    "print('sqrt(95): ', np.sqrt(95))\n",
    "print('||w||: ', np.sqrt(w.dot(w)))\n",
    "print('sqrt(14): ', np.sqrt(14))"
   ]
  },
  {
   "cell_type": "markdown",
   "id": "58894114-0617-45d2-9591-ee1e69378411",
   "metadata": {},
   "source": [
    "e. If $\\theta$ is the angle between $\\textbf{u}$  and   $\\textbf{v}$, find $\\cos{\\theta}$.<br>\n",
    "- $\\cos{\\theta}=\\frac{\\textbf{u} \\cdotp \\textbf{v}}{||\\textbf{u}|| \\ ||\\textbf{v}||} = \n",
    "    \\frac{-6}{\\sqrt{90}\\sqrt{95}}$"
   ]
  },
  {
   "cell_type": "code",
   "execution_count": 78,
   "id": "ef91bfe0-c82d-4104-989d-d34dbe53102f",
   "metadata": {},
   "outputs": [
    {
     "name": "stdout",
     "output_type": "stream",
     "text": [
      "angle: -0.06488856845230502\n",
      "angle: -0.06488856845230502\n"
     ]
    }
   ],
   "source": [
    "#pythonic solution for 3.e\n",
    "import numpy as np\n",
    "from numpy.linalg import norm\n",
    "u = np.array([2, -5, 4, 6, -3])\n",
    "v = np.array([5, -2, 1, -7, -4])\n",
    "w = np.array([2, 1, -3])\n",
    "\n",
    "print('angle:', np.dot(u,v)/(np.linalg.norm(u)*np.linalg.norm(v)))\n",
    "print('angle:',-6/(np.sqrt(90)*np.sqrt(95)))"
   ]
  },
  {
   "cell_type": "markdown",
   "id": "5f6842f9-2a9e-4d9a-9cb3-5d6a87dc066c",
   "metadata": {},
   "source": [
    "f. If $\\alpha$ is the angle between $\\textbf{v}$  and   $\\textbf{w}$, find $\\cos{\\alpha}$.<br>\n",
    "- $\\cos{\\alpha}=\\frac{\\textbf{v} \\cdotp \\textbf{w}}{||\\textbf{v}|| \\ ||\\textbf{w}||} = \n",
    "    \\frac{5}{\\sqrt{95}\\sqrt{14}} $"
   ]
  },
  {
   "cell_type": "code",
   "execution_count": 79,
   "id": "f713e308-2a5e-4052-bf05-3b73d667d04f",
   "metadata": {},
   "outputs": [
    {
     "name": "stdout",
     "output_type": "stream",
     "text": [
      "angle: 0.13710212427677046\n",
      "angle: 0.13710212427677046\n"
     ]
    }
   ],
   "source": [
    "#pythonic solution for 3.f\n",
    "import numpy as np\n",
    "from numpy.linalg import norm\n",
    "u = np.array([2, -5, 4, 6, -3])\n",
    "v = np.array([5, -2, 1, -7, -4])\n",
    "w = np.array([2, 1, -3, 0, 0])\n",
    "\n",
    "print('angle:', np.dot(v,w)/(np.linalg.norm(v)*np.linalg.norm(w)))\n",
    "print('angle:', 5/(np.sqrt(95)*np.sqrt(14)))"
   ]
  },
  {
   "cell_type": "markdown",
   "id": "cd45d333-9160-4c15-83a9-320a1c9a226e",
   "metadata": {},
   "source": [
    "g. If $\\beta$ is the angle between $\\textbf{u}$  and   $\\textbf{w}$, find $\\cos{\\beta}$.<br>\n",
    "- $\\cos{\\beta}=\\frac{\\textbf{u} \\cdotp \\textbf{w}}{||\\textbf{u}|| \\ ||\\textbf{w}||} = \n",
    "    \\frac{-13}{\\sqrt{90}\\sqrt{14}}$"
   ]
  },
  {
   "cell_type": "code",
   "execution_count": 83,
   "id": "f4a4e63d-6313-41d1-b463-0b2da647e41a",
   "metadata": {},
   "outputs": [
    {
     "name": "stdout",
     "output_type": "stream",
     "text": [
      "angle: -0.3662335103823572\n",
      "angle: -0.3662335103823572\n"
     ]
    }
   ],
   "source": [
    "#pythonic solution for 3.g \n",
    "import numpy as np\n",
    "from numpy.linalg import norm\n",
    "u = np.array([2, -5, 4, 6, -3])\n",
    "v = np.array([5, -2, 1, -7, -4])\n",
    "w = np.array([2, 1, -3, 0, 0])\n",
    "\n",
    "print('angle:', np.dot(u,w)/(np.linalg.norm(u)*np.linalg.norm(w)))\n",
    "print('angle:', -13/(np.sqrt(90)*np.sqrt(14)))"
   ]
  },
  {
   "cell_type": "markdown",
   "id": "e6907960-d482-48f9-b850-b81ae3a764cb",
   "metadata": {},
   "source": [
    "h. Find $d(\\textbf{u},\\textbf{v})$.<br>\n",
    "    $d(u,v) = ||u-v|| = \\sqrt{(2-5)^2 + (-5-(-2))^2 + (4-1)^2 + (6-(-7))^2 + (-3-(-4))^2} = \\sqrt{9+9+9+169+1} = \\sqrt{197}$\n",
    "   <br>"
   ]
  },
  {
   "cell_type": "code",
   "execution_count": 91,
   "id": "d54559c9-c5a8-4b62-97b8-2f63cd0f6bd1",
   "metadata": {},
   "outputs": [
    {
     "name": "stdout",
     "output_type": "stream",
     "text": [
      "d(u,v):  14.035668847618199\n"
     ]
    }
   ],
   "source": [
    "#pythonic solution for 3.h\n",
    "import numpy as np\n",
    "from numpy.linalg import norm\n",
    "u = np.array([2, -5, 4, 6, -3])\n",
    "v = np.array([5, -2, 1, -7, -4])\n",
    "print('d(u,v): ', np.linalg.norm(u - v))"
   ]
  },
  {
   "cell_type": "markdown",
   "id": "4f4c06e4-a2af-4db5-b42f-cc3e36599b5d",
   "metadata": {},
   "source": [
    "i. Find $d(\\textbf{w},\\textbf{v})$.<br>\n",
    "    $d(w,v) = ||w-v|| = \\sqrt{(2-5)^2 + (1-(-2))^2 + (-3-1)^2 + (0-(-7))^2 + (0-(-4))^2} = \\sqrt{9+9+16+49+16} = \\sqrt{99}$"
   ]
  },
  {
   "cell_type": "code",
   "execution_count": 97,
   "id": "fc51b8c1-917e-477b-96ed-04be21a1d0d0",
   "metadata": {},
   "outputs": [
    {
     "name": "stdout",
     "output_type": "stream",
     "text": [
      "d(w,v):  9.9498743710662\n"
     ]
    }
   ],
   "source": [
    "#pythonic solution for 3.i\n",
    "import numpy as np\n",
    "from numpy.linalg import norm\n",
    "v = np.array([5, -2, 1, -7, -4])\n",
    "w = np.array([2, 1, -3, 0, 0])\n",
    "print('d(w,v): ', np.linalg.norm(w - v))"
   ]
  },
  {
   "cell_type": "markdown",
   "id": "137475ad-80c7-4af7-b941-974fcafd8872",
   "metadata": {},
   "source": [
    "j.Find $d(\\textbf{u},\\textbf{w})$. <br>\n",
    "    $d(u,w) = ||u-w|| = \\sqrt{(2-2)^2 + (-5-1)^2 + (4-(-3))^2 + (6-0)^2 + (-3-0)^2} = \\sqrt{0+36+49+36+9} = \\sqrt{130}$"
   ]
  },
  {
   "cell_type": "code",
   "execution_count": 98,
   "id": "c16f422d-f992-464a-9b7a-8aa8dc337b32",
   "metadata": {},
   "outputs": [
    {
     "name": "stdout",
     "output_type": "stream",
     "text": [
      "d(u,w):  11.40175425099138\n"
     ]
    }
   ],
   "source": [
    "#pythonic solution for 3.j\n",
    "import numpy as np\n",
    "from numpy.linalg import norm\n",
    "u = np.array([2, -5, 4, 6, -3])\n",
    "w = np.array([2, 1, -3, 0, 0])\n",
    "print('d(u,w): ', np.linalg.norm(u - w))"
   ]
  },
  {
   "cell_type": "markdown",
   "id": "30d380b9-af07-4a2c-a949-01900567efae",
   "metadata": {},
   "source": [
    "k. Find $proj(\\textbf{u},\\textbf{v})$.<br>\n",
    "$\n",
    "    proj(\\textbf{u},\\textbf{v}) =\n",
    "    \\frac{\\textbf{u} \\cdotp \\textbf{v}}{||\\textbf{v}||^2} \\textbf{v} =\n",
    "    \\frac{-6}{(\\sqrt{95})^2}(5, -2, 1, -7, -4) =\n",
    "    \\frac{-6}{95}(5, -2, 1, -7, -4) =\n",
    "    \\frac{-6}{95}(5, -2, 1, -7, -4) = \n",
    "    (\\frac{-30}{95},\\frac{12}{95},\\frac{-6}{95}\\frac{42}{95}\\frac{24}{95})$"
   ]
  },
  {
   "cell_type": "code",
   "execution_count": 105,
   "id": "aa157ac3-ce47-4465-b690-5f20e7475be4",
   "metadata": {},
   "outputs": [
    {
     "name": "stdout",
     "output_type": "stream",
     "text": [
      "proj(u,v):  [-0.31578947  0.12631579 -0.06315789  0.44210526  0.25263158]\n",
      "proj(u,v):  [0.3157894736842105, 0.12631578947368421, -0.06315789473684211, 0.4421052631578947, 0.25263157894736843]\n"
     ]
    }
   ],
   "source": [
    "#pythonic solution for 3.k\n",
    "import numpy as np\n",
    "from numpy.linalg import norm\n",
    "u = np.array([2, -5, 4, 6, -3])\n",
    "v = np.array([5, -2, 1, -7, -4])\n",
    "print(\"proj(u,v): \",u.dot(v)*v/(np.linalg.norm(v)**2) )\n",
    "print(\"proj(u,v): \",[30/95,12/95,-6/95,42/95,24/95])"
   ]
  },
  {
   "cell_type": "markdown",
   "id": "7515338c-afa4-411a-94c3-dc6f2b5f7b76",
   "metadata": {},
   "source": [
    " l. Find $proj(\\textbf{w},\\textbf{v})$.<br>\n",
    "    $proj(w,v) = \\frac{w \\cdotp v}{||v||^2}v = \\frac{5}{(\\sqrt{95})^2}(5,-2,1,-7,-4) = (\\frac{5}{19},\\frac{-2}{19},\\frac{1}{19},\\frac{-7}{19},\\frac{-4}{19}) $<br>"
   ]
  },
  {
   "cell_type": "code",
   "execution_count": 104,
   "id": "3d0e5be3-d52b-4f40-b19f-f8a4a63b47df",
   "metadata": {},
   "outputs": [
    {
     "name": "stdout",
     "output_type": "stream",
     "text": [
      "proj(w,v):  [ 0.26315789 -0.10526316  0.05263158 -0.36842105 -0.21052632]\n",
      "proj(w,v):  [0.2631578947368421, -0.10526315789473684, 0.05263157894736842, -0.3684210526315789, -0.21052631578947367]\n"
     ]
    }
   ],
   "source": [
    "#pythonic solution for 3.l\n",
    "import numpy as np\n",
    "from numpy.linalg import norm\n",
    "v = np.array([5, -2, 1, -7, -4])\n",
    "w = np.array([2, 1, -3, 0, 0])\n",
    "print(\"proj(w,v): \",w.dot(v)*v/(np.linalg.norm(v)**2) )\n",
    "print(\"proj(w,v): \",[5/19,-2/19,1/19,-7/19,-4/19])"
   ]
  },
  {
   "cell_type": "markdown",
   "id": "dd34acf1-74eb-49f9-8ab2-a3fde6c3d4fa",
   "metadata": {},
   "source": [
    " m. Find $proj(\\textbf{u},\\textbf{w})$.<br>\n",
    "    $proj(u,w) = \\frac{u \\cdotp w}{||w||^2}v = \\frac{-13}{(\\sqrt{14})^2}(2,1,-3) = (\\frac{-26}{14},\\frac{-13}{14},\\frac{39}{14}) $<br>"
   ]
  },
  {
   "cell_type": "code",
   "execution_count": 103,
   "id": "f96b8f22-d7ba-43f8-b743-9caf7a923873",
   "metadata": {},
   "outputs": [
    {
     "name": "stdout",
     "output_type": "stream",
     "text": [
      "proj(w,v):  [-1.85714286 -0.92857143  2.78571429  0.          0.        ]\n",
      "proj(w,v):  [-1.8571428571428572, -0.9285714285714286, 2.7857142857142856]\n"
     ]
    }
   ],
   "source": [
    "#pythonic solution for 3.m\n",
    "import numpy as np\n",
    "from numpy.linalg import norm\n",
    "u = np.array([2, -5, 4, 6, -3])\n",
    "w = np.array([2, 1, -3, 0, 0])\n",
    "print(\"proj(w,v): \",u.dot(w)*w/(np.linalg.norm(w)**2) )\n",
    "print(\"proj(w,v): \",[-26/14,-13/14,39/14])"
   ]
  },
  {
   "cell_type": "markdown",
   "id": "13c7e20f-95b4-49c0-845f-8cc84a4e41ef",
   "metadata": {},
   "source": [
    "---\n",
    "4. Normalize each vector:<br>\n",
    "a. $\\textbf{u}$ = (5,-7).<br>\n",
    "    $||\\textbf{u}|| =\\sqrt{\\textbf{u} \\cdotp \\textbf{u}} = \\sqrt{(5)^2+(-7)^2} = \\sqrt{74} = u' = \\frac{u}{||u||} = ({\\frac{5}{\\sqrt{74}}, \\frac{-7}{\\sqrt{74}}})$"
   ]
  },
  {
   "cell_type": "code",
   "execution_count": 107,
   "id": "c5b5dafb-89de-43e0-a80d-285c78b4d5df",
   "metadata": {},
   "outputs": [
    {
     "name": "stdout",
     "output_type": "stream",
     "text": [
      "u': [ 0.58123819 -0.81373347]\n"
     ]
    }
   ],
   "source": [
    "#pythonic solution for 4.a\n",
    "import numpy as np\n",
    "from numpy.linalg import norm\n",
    "u = np.array([5, -7])\n",
    "print(\"u':\", u/np.sqrt(u.dot(u)))"
   ]
  },
  {
   "cell_type": "markdown",
   "id": "a68b656b-f5a0-4bb1-b5fd-63d45562bc5e",
   "metadata": {},
   "source": [
    "b. $\\textbf{v}$ = (1,2,-2,4).<br>\n",
    "$ ||\\textbf{v}|| = \\sqrt{\\textbf{v} \\cdotp \\textbf{v}} = \\sqrt{(1)^2+(2)^2+(-2)^2+(4)^2} = \\sqrt{25} = 5 u' = \\frac{u}{||u||} = \\frac{1}{5}, \\frac{2}{5},\\frac{-2}{5},\\frac{4}{5})$"
   ]
  },
  {
   "cell_type": "code",
   "execution_count": 109,
   "id": "c844ee1e-13ac-4ee5-9175-dca57e2ad9bb",
   "metadata": {},
   "outputs": [
    {
     "name": "stdout",
     "output_type": "stream",
     "text": [
      "v':  [ 0.2  0.4 -0.4  0.8]\n"
     ]
    }
   ],
   "source": [
    "#pythonic solution for 4.b\n",
    "import numpy as np\n",
    "from numpy.linalg import norm\n",
    "v = np.array([1, 2, -2, 4])\n",
    "print(\"v': \", v/np.sqrt(v.dot(v)))"
   ]
  },
  {
   "cell_type": "markdown",
   "id": "2f965609-722b-4abe-8da9-8f0e45f8ab16",
   "metadata": {},
   "source": [
    "c. $\\textbf{w} = (\\frac{1}{2},\\frac{-1}{3},\\frac{3}{4})$.<br>\n",
    "    $||\\textbf{v}|| = \\sqrt{\\textbf{v} \\cdotp \\textbf{v}} = \\sqrt{(\\frac{1}{2})^2+\\frac{-1}{3})^2+\\frac{3}{4})^2} = \\sqrt{(\\frac{1}{4})+\\frac{1}{9})+\\frac{9}{16}} = \\sqrt{\\frac{133}{144}}$"
   ]
  },
  {
   "cell_type": "code",
   "execution_count": 110,
   "id": "3b67c2f7-262a-4082-bd55-fbd9d1a0a62f",
   "metadata": {},
   "outputs": [
    {
     "name": "stdout",
     "output_type": "stream",
     "text": [
      "w':  0.961046882889233\n",
      "w':  0.961046882889233\n"
     ]
    }
   ],
   "source": [
    "#pythonic solution for 4.c\n",
    "import numpy as np\n",
    "from numpy.linalg import norm\n",
    "w = np.array([1/2, -1/3, 3/4])\n",
    "print(\"w': \", np.linalg.norm(w))\n",
    "print(\"w': \", np.sqrt(133/144))"
   ]
  },
  {
   "cell_type": "markdown",
   "id": "d3e85b35-78a8-430e-9e72-5d3cf6474389",
   "metadata": {},
   "source": [
    "--- \n",
    "5. Let $\\textbf{u} = (1,2,-2)$,$\\textbf{v} = (3,-12,4)$ and a scalar $k = -3$: <br><br>\n",
    "Find $||u||, ||v||, ||u+v||, ||ku||$.<br><br>\n",
    "$||u|| = \\sqrt{u \\cdotp u} =\\sqrt{1(1) + (2)(2) + (-2)(-2)}=\\sqrt{1 + 4 + 4} = \\sqrt{9} = 3$<br><br>\n",
    "$||v|| = \\sqrt{v \\cdotp v} =\\sqrt{3(3) + (-12)(-12) + (4)(4)}=\\sqrt{9 + 144 + 16} = \\sqrt{169} = 13$<br><br>\n",
    "$||u+v|| = \\sqrt{(1+3)^2 + (2+(-12))^2 + ((-2)+4)^2} = \\sqrt{16 + 100 + 4} = \\sqrt{120}$<br><br>\n",
    "$||ku|| = \\sqrt{((-3)(1))^2 + ((-3)(2))^2 + ((-3)(-2))^2} = \\sqrt{9 + 36 + 36} = \\sqrt{81} = 9$<br>"
   ]
  },
  {
   "cell_type": "code",
   "execution_count": 113,
   "id": "b080f0d3-4509-4001-b87a-c8e54ab48494",
   "metadata": {},
   "outputs": [
    {
     "name": "stdout",
     "output_type": "stream",
     "text": [
      "||u||:  3.0\n"
     ]
    }
   ],
   "source": [
    "#pythonic solution for 5.||u||\n",
    "import numpy as np\n",
    "from numpy.linalg import norm\n",
    "u = np.array([1, 2, -2])\n",
    "v = np.array([3, -12, 4])\n",
    "k = -3\n",
    "print(\"||u||: \", np.linalg.norm(u))"
   ]
  },
  {
   "cell_type": "code",
   "execution_count": 114,
   "id": "41581a28-27a0-4e95-9953-57a365db3c87",
   "metadata": {},
   "outputs": [
    {
     "name": "stdout",
     "output_type": "stream",
     "text": [
      "||v||:  13.0\n"
     ]
    }
   ],
   "source": [
    "#pythonic solution for 5.||v||\n",
    "import numpy as np\n",
    "from numpy.linalg import norm\n",
    "v = np.array([3, -12, 4])\n",
    "print(\"||v||: \", np.linalg.norm(v))"
   ]
  },
  {
   "cell_type": "code",
   "execution_count": 122,
   "id": "4f80b00c-2186-4636-8315-0fcc7ea23307",
   "metadata": {},
   "outputs": [
    {
     "name": "stdout",
     "output_type": "stream",
     "text": [
      "||u+v||:  10.954451150103322\n",
      "sqrt(120):  10.954451150103322\n"
     ]
    }
   ],
   "source": [
    "#pythonic solution for 5.||u+v||\n",
    "import numpy as np\n",
    "from numpy.linalg import norm\n",
    "u = np.array([1, 2, -2])\n",
    "v = np.array([3, -12, 4])\n",
    "print(\"||u+v||: \", np.linalg.norm(u+v))\n",
    "print(\"sqrt(120): \", np.sqrt(120))"
   ]
  },
  {
   "cell_type": "code",
   "execution_count": 121,
   "id": "7bdefcdc-5805-486e-a0f7-cf24f81bcffe",
   "metadata": {},
   "outputs": [
    {
     "name": "stdout",
     "output_type": "stream",
     "text": [
      "||ku||:  9.0\n"
     ]
    }
   ],
   "source": [
    "#pythonic solution for 5.||ku||\n",
    "import numpy as np\n",
    "from numpy.linalg import norm\n",
    "u = np.array([1, 2, -2])\n",
    "k = -3\n",
    "print(\"||ku||: \", np.linalg.norm(k*u))"
   ]
  },
  {
   "cell_type": "markdown",
   "id": "36b70a71-2560-4d76-a43a-e4d552c5d1b7",
   "metadata": {},
   "source": [
    "--- \n",
    "6. Find k so that $\\textbf{u}  \\ and \\  \\textbf{v}$ are orthogonal.\n",
    "\n",
    "a. $\\textbf{u} = (3, k, -2), \\textbf{v} = (6, -4, -3)$.<br>\n",
    "$0 = u(v) = u_1(v_1)+u_2(v_2)+u_3(v_3)$<br>\n",
    "$0 = 3(6)+ k(-4) + -2(-3) = 18 -4k + 6$<br>\n",
    "$4k = 18 + 6$ <br>\n",
    "$k = \\frac{24}{4}$ <br>\n",
    "$k = 6$\n",
    "<br><br>\n",
    "b. $\\textbf{u} = (5,k,-4,2), \\textbf{v} = (1,-3,2,2k)$.<br>\n",
    "$0 = u(v) = u_1(v_1)+u_2(v_2)+u_3(v_3)$<br>\n",
    "$0 = 5(1)+ k(-3) + -4(2) + 2(2k)= 5 + (-3k) + (-8) + 4k$<br>\n",
    "$4k - 3k = 8 - 5$ <br>\n",
    "$k = 3$ <br><br>\n",
    "c. $\\textbf{u} = (1,7,k+2,-2), \\textbf{v} = (3, k, -3,k)$.<br>\n",
    "$0 = u(v) = u_1(v_1)+u_2(v_2)+u_3(v_3)$<br>\n",
    "$0 = 1(3)+ 7(k) + k+2(-3) + -2(k)= 3 + 7k - 3k - 6 -2k$<br>\n",
    "$7k - 3k - 2k = 6 - 3$ <br>\n",
    "$2k = 3$ <br>\n",
    "$k = \\frac{3}{2} = 1.5$"
   ]
  },
  {
   "cell_type": "code",
   "execution_count": 118,
   "id": "50140df3-4939-431a-a87e-3a55bd3e85e2",
   "metadata": {},
   "outputs": [
    {
     "name": "stdout",
     "output_type": "stream",
     "text": [
      "u*v:  0\n"
     ]
    }
   ],
   "source": [
    "#pythonic solution for 6.a\n",
    "import numpy as np\n",
    "from numpy.linalg import norm\n",
    "k = 6\n",
    "u = np.array([3, k, -2])\n",
    "v = np.array([6, -4, -3])\n",
    "print(\"u*v: \", u.dot(v))"
   ]
  },
  {
   "cell_type": "code",
   "execution_count": 119,
   "id": "6d652dcf-5959-4979-a09a-fbe378e333d8",
   "metadata": {},
   "outputs": [
    {
     "name": "stdout",
     "output_type": "stream",
     "text": [
      "u*v:  0\n"
     ]
    }
   ],
   "source": [
    "#pythonic solution for 6.b\n",
    "import numpy as np\n",
    "from numpy.linalg import norm\n",
    "k = 3\n",
    "u = np.array([5, k, -4, 2])\n",
    "v = np.array([1, -3, 2, 2*k])\n",
    "print(\"u*v: \", u.dot(v))"
   ]
  },
  {
   "cell_type": "code",
   "execution_count": 120,
   "id": "2bf833ba-c72d-4c0a-a983-96c922817e0d",
   "metadata": {},
   "outputs": [
    {
     "name": "stdout",
     "output_type": "stream",
     "text": [
      "u*v:  0.0\n"
     ]
    }
   ],
   "source": [
    "#pythonic solution for 6.c\n",
    "import numpy as np\n",
    "from numpy.linalg import norm\n",
    "k = 1.5\n",
    "u = np.array([1, 7, k+2, -2])\n",
    "v = np.array([3, k, -3, k])\n",
    "print(\"u*v: \", u.dot(v))"
   ]
  }
 ],
 "metadata": {
  "kernelspec": {
   "display_name": "Python 3 (ipykernel)",
   "language": "python",
   "name": "python3"
  },
  "language_info": {
   "codemirror_mode": {
    "name": "ipython",
    "version": 3
   },
   "file_extension": ".py",
   "mimetype": "text/x-python",
   "name": "python",
   "nbconvert_exporter": "python",
   "pygments_lexer": "ipython3",
   "version": "3.11.5"
  }
 },
 "nbformat": 4,
 "nbformat_minor": 5
}
